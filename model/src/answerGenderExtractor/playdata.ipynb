{
 "cells": [
  {
   "cell_type": "code",
   "execution_count": 1,
   "metadata": {},
   "outputs": [],
   "source": [
    "# label for gender\n",
    "FEMALE = 0\n",
    "MALE = 1\n",
    "UNKNOWN = -1\n",
    "\n",
    "def mapGenderToTag(gender):\n",
    "    if gender == 'female':\n",
    "        return FEMALE\n",
    "    elif gender == 'male':\n",
    "        return MALE\n",
    "    else:\n",
    "        return UNKNOWN"
   ]
  },
  {
   "cell_type": "code",
   "execution_count": 2,
   "metadata": {},
   "outputs": [],
   "source": [
    "# stripe HTML from 知乎 answers\n",
    "from bs4 import BeautifulSoup\n",
    "def concatAndStriptHTMLFromContent(aaa):\n",
    "    content, headline, gender = aaa\n",
    "    soup = BeautifulSoup(content)\n",
    "    return [headline + ' ' + soup.get_text(), mapGenderToTag(gender)]"
   ]
  },
  {
   "cell_type": "code",
   "execution_count": 8,
   "metadata": {
    "inputHidden": false,
    "outputHidden": false
   },
   "outputs": [],
   "source": [
    "# fetch data from crawled answers\n",
    "import sqlite3\n",
    "\n",
    "# prepare data\n",
    "conn = sqlite3.connect('/Users/linonetwo/Desktop/repo/zhihu-nlp-playground/data/questionsAnswers.sqlite')\n",
    "\n",
    "def answerList(gender, count, order):\n",
    "    cursor = conn.execute(f\"\"\"\n",
    "        SELECT answers.content, users.headline, users.gender FROM answers LEFT JOIN users\n",
    "        On answers.user = users.id\n",
    "        WHERE users.gender = \"{gender}\"\n",
    "        ORDER BY answers._id {order}\n",
    "        LIMIT {count}\n",
    "    \"\"\")\n",
    "    return list(map(concatAndStriptHTMLFromContent, cursor.fetchall()))"
   ]
  },
  {
   "cell_type": "code",
   "execution_count": 34,
   "metadata": {},
   "outputs": [],
   "source": [
    "# prepare data for training\n",
    "import random\n",
    "import pandas as pd\n",
    "\n",
    "size = 2000\n",
    "train_data = answerList('male', size, 'DESC') + answerList('female', size, 'DESC')\n",
    "eval_data = answerList('male', size, 'ASC') + answerList('female', size, 'ASC')\n",
    "\n",
    "random.shuffle(train_data)\n",
    "random.shuffle(eval_data)\n",
    "\n",
    "# Train and Evaluation data needs to be in a Pandas Dataframe of two columns. The first column is the text with type str, and the second column is the label with type int.\n",
    "train_df = pd.DataFrame(train_data, columns=['text', 'labels'])\n",
    "eval_df = pd.DataFrame(eval_data)"
   ]
  },
  {
   "cell_type": "code",
   "execution_count": 35,
   "metadata": {},
   "outputs": [
    {
     "data": {
      "text/html": [
       "<div>\n",
       "<style scoped>\n",
       "    .dataframe tbody tr th:only-of-type {\n",
       "        vertical-align: middle;\n",
       "    }\n",
       "\n",
       "    .dataframe tbody tr th {\n",
       "        vertical-align: top;\n",
       "    }\n",
       "\n",
       "    .dataframe thead th {\n",
       "        text-align: right;\n",
       "    }\n",
       "</style>\n",
       "<table border=\"1\" class=\"dataframe\">\n",
       "  <thead>\n",
       "    <tr style=\"text-align: right;\">\n",
       "      <th></th>\n",
       "      <th>text</th>\n",
       "      <th>labels</th>\n",
       "    </tr>\n",
       "  </thead>\n",
       "  <tbody>\n",
       "    <tr>\n",
       "      <td>0</td>\n",
       "      <td>我来写bug了 我觉得我的要求也很高的1.首先要有上进心，要能够为了未来去打拼，而不是蹲在家...</td>\n",
       "      <td>1</td>\n",
       "    </tr>\n",
       "    <tr>\n",
       "      <td>1</td>\n",
       "      <td>我们陷入了一个巨大的阴谋 前面说的差不多了。总之我有一条，能当之无愧的说出“英雄所见略同。”</td>\n",
       "      <td>1</td>\n",
       "    </tr>\n",
       "    <tr>\n",
       "      <td>2</td>\n",
       "      <td>一个情商在线的养娃ui设计师。 嗯，我喜欢的人的身高最好170附近，最低能接受到168，最高...</td>\n",
       "      <td>0</td>\n",
       "    </tr>\n",
       "    <tr>\n",
       "      <td>3</td>\n",
       "      <td>我不要介绍自己 现阶段吵架了不会冷战，不会对我冷暴力有问题可以沟通我会给你理解包容尊重也没想...</td>\n",
       "      <td>0</td>\n",
       "    </tr>\n",
       "    <tr>\n",
       "      <td>4</td>\n",
       "      <td>死宅一枚 用睿站用哔咔用p站用逼乎用steam好了我只找得到男的了（狗头）</td>\n",
       "      <td>1</td>\n",
       "    </tr>\n",
       "  </tbody>\n",
       "</table>\n",
       "</div>"
      ],
      "text/plain": [
       "                                                text  labels\n",
       "0  我来写bug了 我觉得我的要求也很高的1.首先要有上进心，要能够为了未来去打拼，而不是蹲在家...       1\n",
       "1     我们陷入了一个巨大的阴谋 前面说的差不多了。总之我有一条，能当之无愧的说出“英雄所见略同。”       1\n",
       "2  一个情商在线的养娃ui设计师。 嗯，我喜欢的人的身高最好170附近，最低能接受到168，最高...       0\n",
       "3  我不要介绍自己 现阶段吵架了不会冷战，不会对我冷暴力有问题可以沟通我会给你理解包容尊重也没想...       0\n",
       "4              死宅一枚 用睿站用哔咔用p站用逼乎用steam好了我只找得到男的了（狗头）       1"
      ]
     },
     "execution_count": 35,
     "metadata": {},
     "output_type": "execute_result"
    }
   ],
   "source": [
    "train_df.head()"
   ]
  },
  {
   "cell_type": "code",
   "execution_count": 36,
   "metadata": {},
   "outputs": [
    {
     "data": {
      "text/html": [
       "<div>\n",
       "<style scoped>\n",
       "    .dataframe tbody tr th:only-of-type {\n",
       "        vertical-align: middle;\n",
       "    }\n",
       "\n",
       "    .dataframe tbody tr th {\n",
       "        vertical-align: top;\n",
       "    }\n",
       "\n",
       "    .dataframe thead th {\n",
       "        text-align: right;\n",
       "    }\n",
       "</style>\n",
       "<table border=\"1\" class=\"dataframe\">\n",
       "  <thead>\n",
       "    <tr style=\"text-align: right;\">\n",
       "      <th></th>\n",
       "      <th>0</th>\n",
       "      <th>1</th>\n",
       "    </tr>\n",
       "  </thead>\n",
       "  <tbody>\n",
       "    <tr>\n",
       "      <td>0</td>\n",
       "      <td>- “have to go  baby”</td>\n",
       "      <td>1</td>\n",
       "    </tr>\n",
       "    <tr>\n",
       "      <td>1</td>\n",
       "      <td>我是人间惆怅客，提及旧事泪纵横，落梅横笛已三更断肠声里忆平生 我坐在角落看霓虹闪烁这个城市一...</td>\n",
       "      <td>1</td>\n",
       "    </tr>\n",
       "    <tr>\n",
       "      <td>2</td>\n",
       "      <td>探春与黛玉的结合体 2020.1.22更    已有对象，谢谢各位兄弟们的私信。   在这里...</td>\n",
       "      <td>0</td>\n",
       "    </tr>\n",
       "    <tr>\n",
       "      <td>3</td>\n",
       "      <td>其实没有那么多硬性条件，看的合眼缘就行，好吧，这么说可能有些空泛。我先介绍下我自己吧，94...</td>\n",
       "      <td>0</td>\n",
       "    </tr>\n",
       "    <tr>\n",
       "      <td>4</td>\n",
       "      <td>房产  我也来试试缘分吧。89年，165，颜值及格。女。合肥人。离异。有一子归男方。上市房企...</td>\n",
       "      <td>0</td>\n",
       "    </tr>\n",
       "  </tbody>\n",
       "</table>\n",
       "</div>"
      ],
      "text/plain": [
       "                                                   0  1\n",
       "0                               - “have to go  baby”  1\n",
       "1  我是人间惆怅客，提及旧事泪纵横，落梅横笛已三更断肠声里忆平生 我坐在角落看霓虹闪烁这个城市一...  1\n",
       "2  探春与黛玉的结合体 2020.1.22更    已有对象，谢谢各位兄弟们的私信。   在这里...  0\n",
       "3   其实没有那么多硬性条件，看的合眼缘就行，好吧，这么说可能有些空泛。我先介绍下我自己吧，94...  0\n",
       "4  房产  我也来试试缘分吧。89年，165，颜值及格。女。合肥人。离异。有一子归男方。上市房企...  0"
      ]
     },
     "execution_count": 36,
     "metadata": {},
     "output_type": "execute_result"
    }
   ],
   "source": [
    "eval_df.head()"
   ]
  },
  {
   "cell_type": "code",
   "execution_count": 37,
   "metadata": {
    "inputHidden": false,
    "outputHidden": false
   },
   "outputs": [
    {
     "name": "stdout",
     "output_type": "stream",
     "text": [
      "Converting to features started. Cache is not used.\n",
      "sliding_window enabled\n"
     ]
    },
    {
     "data": {
      "application/vnd.jupyter.widget-view+json": {
       "model_id": "361ce16c26954b0ea4e04241642f513a",
       "version_major": 2,
       "version_minor": 0
      },
      "text/plain": [
       "HBox(children=(IntProgress(value=0, max=4000), HTML(value='')))"
      ]
     },
     "metadata": {},
     "output_type": "display_data"
    },
    {
     "name": "stdout",
     "output_type": "stream",
     "text": [
      "\n",
      "4465 features created from 4000 samples.\n"
     ]
    },
    {
     "data": {
      "application/vnd.jupyter.widget-view+json": {
       "model_id": "89cf8ee3869f46b5acee54d7a231999e",
       "version_major": 2,
       "version_minor": 0
      },
      "text/plain": [
       "HBox(children=(IntProgress(value=0, description='Epoch', max=1, style=ProgressStyle(description_width='initial…"
      ]
     },
     "metadata": {},
     "output_type": "display_data"
    },
    {
     "data": {
      "application/vnd.jupyter.widget-view+json": {
       "model_id": "159c40c0fdaa4c209c847484a7bda879",
       "version_major": 2,
       "version_minor": 0
      },
      "text/plain": [
       "HBox(children=(IntProgress(value=0, description='Current iteration', max=559, style=ProgressStyle(description_…"
      ]
     },
     "metadata": {},
     "output_type": "display_data"
    },
    {
     "name": "stdout",
     "output_type": "stream",
     "text": [
      "Running loss: 1.348329\n",
      "Converting to features started. Cache is not used.\n",
      "sliding_window enabled\n"
     ]
    },
    {
     "data": {
      "application/vnd.jupyter.widget-view+json": {
       "model_id": "01719c283d5647de88ef0ef25ace5e37",
       "version_major": 2,
       "version_minor": 0
      },
      "text/plain": [
       "HBox(children=(IntProgress(value=0, max=4000), HTML(value='')))"
      ]
     },
     "metadata": {},
     "output_type": "display_data"
    },
    {
     "name": "stdout",
     "output_type": "stream",
     "text": [
      "\n",
      "4000 features created from 4000 samples.\n"
     ]
    },
    {
     "data": {
      "application/vnd.jupyter.widget-view+json": {
       "model_id": "6878955f96464651a05f590d643a339f",
       "version_major": 2,
       "version_minor": 0
      },
      "text/plain": [
       "HBox(children=(IntProgress(value=0, max=798), HTML(value='')))"
      ]
     },
     "metadata": {},
     "output_type": "display_data"
    },
    {
     "name": "stdout",
     "output_type": "stream",
     "text": [
      "\n",
      "{'mcc': 0.44408935501842345, 'tp': 1513, 'tn': 1373, 'fp': 627, 'fn': 487, 'eval_loss': 0.598417389811131}\n",
      "\n",
      "Training of bert model complete. Saved to outputs/.\n",
      "Features loaded from cache at cache_dir/cached_dev_bert_512_2_4000\n"
     ]
    },
    {
     "data": {
      "application/vnd.jupyter.widget-view+json": {
       "model_id": "a82a3e1e57ea4e7abb2a41b87d52f031",
       "version_major": 2,
       "version_minor": 0
      },
      "text/plain": [
       "HBox(children=(IntProgress(value=0, max=798), HTML(value='')))"
      ]
     },
     "metadata": {},
     "output_type": "display_data"
    },
    {
     "name": "stdout",
     "output_type": "stream",
     "text": [
      "\n"
     ]
    }
   ],
   "source": [
    "from simpletransformers.classification import ClassificationModel\n",
    "import sklearn\n",
    "\n",
    "\n",
    "# Create a ClassificationModel\n",
    "train_args={\n",
    "    'sliding_window': True,\n",
    "    'reprocess_input_data': True,\n",
    "    'overwrite_output_dir': True,\n",
    "    'evaluate_during_training': True,\n",
    "    'no_cache': False,\n",
    "    'logging_steps': 5,\n",
    "    'stride': 0.8,\n",
    "    'max_seq_length': 512\n",
    "}\n",
    "model = ClassificationModel('bert', 'bert-base-chinese', use_cuda=False, args=train_args) # You can set class weights by using the optional weight argument\n",
    "\n",
    "# Train the model\n",
    "model.train_model(train_df, eval_df=eval_df)\n",
    "\n",
    "# Evaluate the model\n",
    "result, model_outputs, wrong_predictions = model.eval_model(eval_df, acc=sklearn.metrics.accuracy_score)"
   ]
  },
  {
   "cell_type": "code",
   "execution_count": 38,
   "metadata": {},
   "outputs": [
    {
     "name": "stdout",
     "output_type": "stream",
     "text": [
      "{'mcc': 0.44408935501842345, 'tp': 1513, 'tn': 1373, 'fp': 627, 'fn': 487, 'acc': 0.7215, 'eval_loss': 0.598417389811131}\n"
     ]
    }
   ],
   "source": [
    "print(result)"
   ]
  },
  {
   "cell_type": "code",
   "execution_count": 39,
   "metadata": {},
   "outputs": [
    {
     "name": "stdout",
     "output_type": "stream",
     "text": [
      "Converting to features started. Cache is not used.\n",
      "sliding_window enabled\n"
     ]
    },
    {
     "data": {
      "application/vnd.jupyter.widget-view+json": {
       "model_id": "5af2dda208104c178770b8f4d80faa5c",
       "version_major": 2,
       "version_minor": 0
      },
      "text/plain": [
       "HBox(children=(IntProgress(value=0, max=1), HTML(value='')))"
      ]
     },
     "metadata": {},
     "output_type": "display_data"
    },
    {
     "name": "stdout",
     "output_type": "stream",
     "text": [
      "\n",
      "1 features created from 1 samples.\n"
     ]
    },
    {
     "data": {
      "application/vnd.jupyter.widget-view+json": {
       "model_id": "0643ffefa6024b8c993683b003b28075",
       "version_major": 2,
       "version_minor": 0
      },
      "text/plain": [
       "HBox(children=(IntProgress(value=0, max=1), HTML(value='')))"
      ]
     },
     "metadata": {},
     "output_type": "display_data"
    },
    {
     "name": "stdout",
     "output_type": "stream",
     "text": [
      "\n",
      "[array([[-0.53769445, -0.11950289]], dtype=float32)]\n",
      "[1]\n"
     ]
    }
   ],
   "source": [
    "predictions, raw_outputs = model.predict(['上海松江，94年狮子男，老家是江苏苏中地区的，独生子，身高180cm，80kg，由于天生骨'])\n",
    "\n",
    "print(raw_outputs)\n",
    "print(predictions)"
   ]
  },
  {
   "cell_type": "code",
   "execution_count": null,
   "metadata": {},
   "outputs": [],
   "source": []
  }
 ],
 "metadata": {
  "kernel_info": {
   "name": "python3"
  },
  "kernelspec": {
   "display_name": "Python 3",
   "language": "python",
   "name": "python3"
  },
  "language_info": {
   "codemirror_mode": {
    "name": "ipython",
    "version": 3
   },
   "file_extension": ".py",
   "mimetype": "text/x-python",
   "name": "python",
   "nbconvert_exporter": "python",
   "pygments_lexer": "ipython3",
   "version": "3.7.4"
  },
  "nteract": {
   "version": "0.15.0"
  }
 },
 "nbformat": 4,
 "nbformat_minor": 1
}
