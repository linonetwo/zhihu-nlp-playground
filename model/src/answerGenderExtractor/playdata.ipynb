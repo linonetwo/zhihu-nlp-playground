{
 "cells": [
  {
   "cell_type": "code",
   "execution_count": 1,
   "metadata": {},
   "outputs": [],
   "source": [
    "# label for gender\n",
    "FEMALE = 0\n",
    "MALE = 1\n",
    "UNKNOWN = -1\n",
    "\n",
    "def mapGenderToTag(gender):\n",
    "    if gender == 'female':\n",
    "        return FEMALE\n",
    "    elif gender == 'male':\n",
    "        return MALE\n",
    "    else:\n",
    "        return UNKNOWN"
   ]
  },
  {
   "cell_type": "code",
   "execution_count": 2,
   "metadata": {},
   "outputs": [],
   "source": [
    "# stripe HTML from 知乎 answers\n",
    "from bs4 import BeautifulSoup\n",
    "def concatAndStriptHTMLFromContent(aaa):\n",
    "    content, headline, gender = aaa\n",
    "    soup = BeautifulSoup(content)\n",
    "    return [headline + ' ' + soup.get_text(), mapGenderToTag(gender)]"
   ]
  },
  {
   "cell_type": "code",
   "execution_count": 8,
   "metadata": {
    "inputHidden": false,
    "outputHidden": false
   },
   "outputs": [],
   "source": [
    "# fetch data from crawled answers\n",
    "import sqlite3\n",
    "\n",
    "# prepare data\n",
    "conn = sqlite3.connect('/Users/linonetwo/Desktop/repo/zhihu-nlp-playground/data/questionsAnswers.sqlite')\n",
    "\n",
    "def answerList(gender, count, order):\n",
    "    cursor = conn.execute(f\"\"\"\n",
    "        SELECT answers.content, users.headline, users.gender FROM answers LEFT JOIN users\n",
    "        On answers.user = users.id\n",
    "        WHERE users.gender = \"{gender}\"\n",
    "        ORDER BY answers._id {order}\n",
    "        LIMIT {count}\n",
    "    \"\"\")\n",
    "    return list(map(concatAndStriptHTMLFromContent, cursor.fetchall()))"
   ]
  },
  {
   "cell_type": "code",
   "execution_count": 9,
   "metadata": {},
   "outputs": [],
   "source": [
    "# prepare data for training\n",
    "import random\n",
    "import pandas as pd\n",
    "\n",
    "size = 2\n",
    "train_data = answerList('male', size, 'DESC') + answerList('female', size, 'DESC')\n",
    "eval_data = answerList('male', size, 'ASC') + answerList('female', size, 'ASC')\n",
    "\n",
    "random.shuffle(train_data)\n",
    "random.shuffle(eval_data)\n",
    "\n",
    "# Train and Evaluation data needs to be in a Pandas Dataframe of two columns. The first column is the text with type str, and the second column is the label with type int.\n",
    "train_df = pd.DataFrame(train_data, columns=['text', 'labels'])\n",
    "eval_df = pd.DataFrame(eval_data)"
   ]
  },
  {
   "cell_type": "code",
   "execution_count": 10,
   "metadata": {},
   "outputs": [
    {
     "data": {
      "text/html": [
       "<div>\n",
       "<style scoped>\n",
       "    .dataframe tbody tr th:only-of-type {\n",
       "        vertical-align: middle;\n",
       "    }\n",
       "\n",
       "    .dataframe tbody tr th {\n",
       "        vertical-align: top;\n",
       "    }\n",
       "\n",
       "    .dataframe thead th {\n",
       "        text-align: right;\n",
       "    }\n",
       "</style>\n",
       "<table border=\"1\" class=\"dataframe\">\n",
       "  <thead>\n",
       "    <tr style=\"text-align: right;\">\n",
       "      <th></th>\n",
       "      <th>text</th>\n",
       "      <th>labels</th>\n",
       "    </tr>\n",
       "  </thead>\n",
       "  <tbody>\n",
       "    <tr>\n",
       "      <td>0</td>\n",
       "      <td>温柔而锋利 尊重女性将心比心热爱生活保持自醒</td>\n",
       "      <td>0</td>\n",
       "    </tr>\n",
       "    <tr>\n",
       "      <td>1</td>\n",
       "      <td>地理科学爱好者 有责任心比爱我更重要</td>\n",
       "      <td>0</td>\n",
       "    </tr>\n",
       "    <tr>\n",
       "      <td>2</td>\n",
       "      <td>键盘侠/KPOP爱好者/不入流的小辩手 如果只说主观的话那没有什么用，标准都是自己定的什么叫...</td>\n",
       "      <td>1</td>\n",
       "    </tr>\n",
       "    <tr>\n",
       "      <td>3</td>\n",
       "      <td>小肥虾 小怪兽 BANANA  我 男生喜欢那种160以上175以下的女生（觉得很像金香起吧...</td>\n",
       "      <td>1</td>\n",
       "    </tr>\n",
       "  </tbody>\n",
       "</table>\n",
       "</div>"
      ],
      "text/plain": [
       "                                                text  labels\n",
       "0                             温柔而锋利 尊重女性将心比心热爱生活保持自醒       0\n",
       "1                                 地理科学爱好者 有责任心比爱我更重要       0\n",
       "2  键盘侠/KPOP爱好者/不入流的小辩手 如果只说主观的话那没有什么用，标准都是自己定的什么叫...       1\n",
       "3  小肥虾 小怪兽 BANANA  我 男生喜欢那种160以上175以下的女生（觉得很像金香起吧...       1"
      ]
     },
     "execution_count": 10,
     "metadata": {},
     "output_type": "execute_result"
    }
   ],
   "source": [
    "train_df.head()"
   ]
  },
  {
   "cell_type": "code",
   "execution_count": 11,
   "metadata": {},
   "outputs": [
    {
     "data": {
      "text/html": [
       "<div>\n",
       "<style scoped>\n",
       "    .dataframe tbody tr th:only-of-type {\n",
       "        vertical-align: middle;\n",
       "    }\n",
       "\n",
       "    .dataframe tbody tr th {\n",
       "        vertical-align: top;\n",
       "    }\n",
       "\n",
       "    .dataframe thead th {\n",
       "        text-align: right;\n",
       "    }\n",
       "</style>\n",
       "<table border=\"1\" class=\"dataframe\">\n",
       "  <thead>\n",
       "    <tr style=\"text-align: right;\">\n",
       "      <th></th>\n",
       "      <th>0</th>\n",
       "      <th>1</th>\n",
       "    </tr>\n",
       "  </thead>\n",
       "  <tbody>\n",
       "    <tr>\n",
       "      <td>0</td>\n",
       "      <td>等风等雨在等你 俗话说“千里姻缘一线牵”，写这个帖子就是给未来老婆多一条找到我的途径；最好的...</td>\n",
       "      <td>1</td>\n",
       "    </tr>\n",
       "    <tr>\n",
       "      <td>1</td>\n",
       "      <td>念经念经 刚考完研，本科是一本，考研是好一点的一本，没啥大的追求，嘻嘻，学校在上海，大概率能...</td>\n",
       "      <td>0</td>\n",
       "    </tr>\n",
       "    <tr>\n",
       "      <td>2</td>\n",
       "      <td>琴心剑魄今何在 91年魔都土著，普通一本工科毕业，JAVA程序猿一只，平时喜欢健身运动，摄影...</td>\n",
       "      <td>1</td>\n",
       "    </tr>\n",
       "    <tr>\n",
       "      <td>3</td>\n",
       "      <td>不知我者谓我何求 2020年打卡工具人签个到⁽˙⁸˙⁾ʹ˜˜Ummm 2019年比较流年不利...</td>\n",
       "      <td>0</td>\n",
       "    </tr>\n",
       "  </tbody>\n",
       "</table>\n",
       "</div>"
      ],
      "text/plain": [
       "                                                   0  1\n",
       "0  等风等雨在等你 俗话说“千里姻缘一线牵”，写这个帖子就是给未来老婆多一条找到我的途径；最好的...  1\n",
       "1  念经念经 刚考完研，本科是一本，考研是好一点的一本，没啥大的追求，嘻嘻，学校在上海，大概率能...  0\n",
       "2  琴心剑魄今何在 91年魔都土著，普通一本工科毕业，JAVA程序猿一只，平时喜欢健身运动，摄影...  1\n",
       "3  不知我者谓我何求 2020年打卡工具人签个到⁽˙⁸˙⁾ʹ˜˜Ummm 2019年比较流年不利...  0"
      ]
     },
     "execution_count": 11,
     "metadata": {},
     "output_type": "execute_result"
    }
   ],
   "source": [
    "eval_df.head()"
   ]
  },
  {
   "cell_type": "code",
   "execution_count": null,
   "metadata": {
    "inputHidden": false,
    "outputHidden": false
   },
   "outputs": [
    {
     "name": "stdout",
     "output_type": "stream",
     "text": [
      "Converting to features started. Cache is not used.\n",
      "sliding_window enabled\n"
     ]
    },
    {
     "data": {
      "application/vnd.jupyter.widget-view+json": {
       "model_id": "95406e70b05340b3b2fa4173530c6a51",
       "version_major": 2,
       "version_minor": 0
      },
      "text/plain": [
       "HBox(children=(IntProgress(value=0, max=4), HTML(value='')))"
      ]
     },
     "metadata": {},
     "output_type": "display_data"
    },
    {
     "name": "stdout",
     "output_type": "stream",
     "text": [
      "\n",
      "4 features created from 4 samples.\n"
     ]
    },
    {
     "data": {
      "application/vnd.jupyter.widget-view+json": {
       "model_id": "2d576fc92fcf4447a8a1ad92388ef2f9",
       "version_major": 2,
       "version_minor": 0
      },
      "text/plain": [
       "HBox(children=(IntProgress(value=0, description='Epoch', max=1, style=ProgressStyle(description_width='initial…"
      ]
     },
     "metadata": {},
     "output_type": "display_data"
    },
    {
     "data": {
      "application/vnd.jupyter.widget-view+json": {
       "model_id": "05798896670c412e90d4f73c12fb4845",
       "version_major": 2,
       "version_minor": 0
      },
      "text/plain": [
       "HBox(children=(IntProgress(value=0, description='Current iteration', max=1, style=ProgressStyle(description_wi…"
      ]
     },
     "metadata": {},
     "output_type": "display_data"
    },
    {
     "name": "stdout",
     "output_type": "stream",
     "text": [
      "Running loss: 0.865374\n",
      "Converting to features started. Cache is not used.\n",
      "sliding_window enabled\n"
     ]
    },
    {
     "name": "stderr",
     "output_type": "stream",
     "text": [
      "/opt/anaconda3/lib/python3.7/site-packages/simpletransformers/classification/classification_model.py:686: UserWarning: Dataframe headers not specified. Falling back to using column 0 as text and column 1 as labels.\n",
      "  \"Dataframe headers not specified. Falling back to using column 0 as text and column 1 as labels.\"\n"
     ]
    },
    {
     "data": {
      "application/vnd.jupyter.widget-view+json": {
       "model_id": "95aaa6415ed243b290a5eb397b1c690a",
       "version_major": 2,
       "version_minor": 0
      },
      "text/plain": [
       "HBox(children=(IntProgress(value=0, max=4), HTML(value='')))"
      ]
     },
     "metadata": {},
     "output_type": "display_data"
    },
    {
     "name": "stdout",
     "output_type": "stream",
     "text": [
      "\n",
      "4 features created from 4 samples.\n"
     ]
    },
    {
     "data": {
      "application/vnd.jupyter.widget-view+json": {
       "model_id": "9f4dcf7f44a1490b83e5ca15d47ed824",
       "version_major": 2,
       "version_minor": 0
      },
      "text/plain": [
       "HBox(children=(IntProgress(value=0, max=2), HTML(value='')))"
      ]
     },
     "metadata": {},
     "output_type": "display_data"
    }
   ],
   "source": [
    "from simpletransformers.classification import ClassificationModel\n",
    "import sklearn\n",
    "\n",
    "\n",
    "# Create a ClassificationModel\n",
    "train_args={\n",
    "    'sliding_window': True,\n",
    "    'reprocess_input_data': True,\n",
    "    'overwrite_output_dir': True,\n",
    "    'evaluate_during_training': True,\n",
    "    'no_cache': False,\n",
    "    'logging_steps': 5,\n",
    "    'stride': 0.8,\n",
    "    'max_seq_length': 512\n",
    "}\n",
    "model = ClassificationModel('bert', 'bert-base-chinese', use_cuda=False, args=train_args) # You can set class weights by using the optional weight argument\n",
    "\n",
    "# Train the model\n",
    "model.train_model(train_df, eval_df=eval_df)\n",
    "\n",
    "# Evaluate the model\n",
    "result, model_outputs, wrong_predictions = model.eval_model(eval_df, acc=sklearn.metrics.accuracy_score)"
   ]
  },
  {
   "cell_type": "code",
   "execution_count": null,
   "metadata": {},
   "outputs": [],
   "source": []
  }
 ],
 "metadata": {
  "kernel_info": {
   "name": "python3"
  },
  "kernelspec": {
   "display_name": "Python 3",
   "language": "python",
   "name": "python3"
  },
  "language_info": {
   "codemirror_mode": {
    "name": "ipython",
    "version": 3
   },
   "file_extension": ".py",
   "mimetype": "text/x-python",
   "name": "python",
   "nbconvert_exporter": "python",
   "pygments_lexer": "ipython3",
   "version": "3.7.4"
  },
  "nteract": {
   "version": "0.15.0"
  }
 },
 "nbformat": 4,
 "nbformat_minor": 1
}
